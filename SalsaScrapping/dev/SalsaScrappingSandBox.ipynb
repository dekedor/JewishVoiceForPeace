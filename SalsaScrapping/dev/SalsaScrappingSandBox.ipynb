{
 "cells": [
  {
   "cell_type": "code",
   "execution_count": 13,
   "metadata": {
    "collapsed": false
   },
   "outputs": [],
   "source": [
    "from requests.auth import HTTPBasicAuth\n",
    "import requests\n",
    "from bs4 import BeautifulSoup"
   ]
  },
  {
   "cell_type": "code",
   "execution_count": 7,
   "metadata": {
    "collapsed": false
   },
   "outputs": [],
   "source": [
    "password_file = open('../password.txt', 'r')\n",
    "data = password_file.read().split('\\n')\n",
    "username = data[0]\n",
    "password = data[1]"
   ]
  },
  {
   "cell_type": "code",
   "execution_count": 9,
   "metadata": {
    "collapsed": false
   },
   "outputs": [],
   "source": [
    "url = 'https://hq-org.salsalabs.com/dia/hq/email/summary.jsp?email_blast_KEYS=1352382'\n",
    "request_data = requests.get(url, auth=HTTPBasicAuth(username, password))"
   ]
  },
  {
   "cell_type": "code",
   "execution_count": 14,
   "metadata": {
    "collapsed": false
   },
   "outputs": [],
   "source": [
    "soup = BeautifulSoup(request_data.text, 'html.parser')"
   ]
  },
  {
   "cell_type": "code",
   "execution_count": 15,
   "metadata": {
    "collapsed": false,
    "scrolled": false
   },
   "outputs": [
    {
     "data": {
      "text/plain": [
       "<html xmlns:xs=\"\">\n",
       "<head>\n",
       "<meta content=\"text/html; charset=utf-8\" http-equiv=\"content-type\">\n",
       "<title>Salsa Headquarters Login</title>\n",
       "<script language=\"JavaScript\" src=\"/dia/include/ajax.js\"></script>\n",
       "<link href=\"/salsa/include/bootstrap/css/salsa-bootstrap.css\" media=\"screen, projection\" rel=\"stylesheet\" type=\"text/css\">\n",
       "<link href=\"/salsa/hq/p/salsa/website/labs/css/salsa-web-commons.css\" media=\"screen, projection\" rel=\"stylesheet\" type=\"text/css\">\n",
       "<script src=\"/salsa/hq/p/salsa/common/public/js/salsa-2.1.js\" type=\"text/javascript\"></script>\n",
       "<script src=\"/salsa/include/bootstrap/js/bootstrap.min.js\" type=\"text/javascript\"></script>\n",
       "<link href=\"/salsa/hq/p/salsa/hq/fresca/images/favicon.png\" rel=\"icon\" type=\"image/png\">\n",
       "<style type=\"text/css\">\n",
       "\t\t\t.salsa-wrapper {position:relative;z-index:50;}\n",
       "\t\t\t.salsa-login {\n",
       "\t\t\t\tmargin: 70px 10px 40px 10px;\n",
       "\t\t\t\tborder-radius: 8px;\n",
       "\t\t\t\tbox-shadow: 0px 0px 10px #333;\n",
       "\t\t\t\twidth: 920px;\n",
       "\t\t\t\tpadding:0;\n",
       "\t\t\t\toverflow:hidden;\n",
       "\t\t\t\tbackground:#fff;\n",
       "\t\t\t\tmin-height:420px;\n",
       "\t\t\t}\n",
       "\t\t\tform input {height:auto;}\n",
       "\t\t\t.logo {margin:5px 0 0 -10px;}\n",
       "\t\t\t.col-login {width:270px; float:left; padding:0 15px 15px 15px;}\n",
       "\t\t\t.col-notes {width:619px; float:left; background: #fbfbfb; border-left: 1px solid #ddd; min-height:420px;}\n",
       "\n",
       "\t\t\t.col-login form {margin: 0px 0px 25px 0px;}\n",
       "\t\t\t.col-login form span { margin-left: 5px; color: #0996AE;}\n",
       "\t\t\t.col-login form span strong {color: #DB761F;}\n",
       "\t\t\t.col-login form span a {color: #004C74; font-size:11px;}\n",
       "\t\t\t.col-login form span a:hover {text-decoration:underline;}\n",
       "\t\t\t.col-login form div {margin-bottom:5px;}\n",
       "\t\t\t.col-login #sub {margin-top:15px;}\n",
       "\t\t\t.col-login input[type=\"text\"], .col-login input[type=\"password\"] {background: #EDF8FA;}\n",
       "\t\t\t.col-login input[type=\"text\"]:focus, .col-login input[type=\"password\"]:focus {background:#fff;}\n",
       "\n",
       "\t\t\t.col-notes .nav-tabs {background: #5F6062; padding: 5px 5px 0px 5px;}\n",
       "\t\t\t.col-notes .nav-tabs li {font-weight:bold;}\n",
       "\t\t\t.col-notes .nav-tabs > li > a {color:#fff;}\n",
       "\t\t\t.col-notes .nav-tabs > .active > a, .col-notes .nav-tabs > .active > a:hover {background:#fbfbfb; color: #515151;}\n",
       "\t\t\t.col-notes .nav-tabs > li > a:hover {color: #515151;}\n",
       "\t\t\t.col-notes .nav-tabs sup {color: orange;}\n",
       "\t\t\t.col-notes .tab-pane {padding:0px 20px 25px 20px; overflow:auto;}\n",
       "\t\t\t.col-notes .date {text-transform:uppercase; margin-bottom:0; font-weight:bold; color: #888;}\n",
       "\n",
       "\t\t\t.bg-home {top:109px; z-index:0; background: #47C3D3;}\n",
       "\n",
       "\t\t\t.hq-browser-message {font-weight:bold; display:none;}\n",
       "\t\t\t.hq-message-top {position:absolute; top:0;}\n",
       "\t\t\t.hq-login-message {width:100%; display:block; text-align:center;}\n",
       "\t\t\t.hq-login-message p {\n",
       "\t\t\t   -webkit-border-radius: 5px;\n",
       "\t\t\t   -moz-border-radius: 5px;\n",
       "\t\t\t   border-radius: 5px;\n",
       "\t\t\t   width:550px;\n",
       "\t\t\t   background:#F7FDFE;\n",
       "\t\t\t   margin:25px auto;\n",
       "\t\t\t   padding:15px;\n",
       "\t\t\t   border:1px solid #971B1E;\n",
       "\t\t\t   font-size:13px;\n",
       "\t\t\t }\n",
       "\t\t\t #message {color:#971B1E;}\n",
       "\n",
       "\t\t\t .btn-orange {\n",
       "\t\t\t\tbackground-color: #E86D1F;\n",
       "\t\t\t\tbackground-image: -moz-linear-gradient(center top , #F3901D, #D95C1E);\n",
       "\t\t\t}\n",
       "\n",
       "\t\t\t.btn-orange:hover,\n",
       "\t\t\t.btn-orange:active,\n",
       "\t\t\t.btn-orange.active,\n",
       "\t\t\t.btn-orange.disabled,\n",
       "\t\t\t.btn-orange[disabled] {\n",
       "\t\t\t  background-color: #D95C1E;\n",
       "\t\t\t}\n",
       "\t\t\t.btn-orange:active, .btn-orange.active {\n",
       "\t\t\t  background-color: #F3901D \\9;\n",
       "\t\t\t}\n",
       "\n",
       "\t\t</style>\n",
       "<!--[if IE ]>\n",
       "\t\t<style type=\"text/css\">\n",
       "\t\t.hq-browser-message {display:block;}\n",
       "\t\t</style>\n",
       "\t\t<![endif]-->\n",
       "</link></link></link></meta></head>\n",
       "<body class=\"page-home\">\n",
       "<noscript><iframe height=\"0\" src=\"//www.googletagmanager.com/ns.html?id=GTM-KW6H96\" style=\"display:none;visibility:hidden\" width=\"0\"></iframe></noscript>\n",
       "<script>\n",
       "\t(function(w,d,s,l,i){w[l]=w[l]||[];w[l].push({'gtm.start':\n",
       "\t\t\tnew Date().getTime(),event:'gtm.js'});var f=d.getElementsByTagName(s)[0],\n",
       "\t\t\tj=d.createElement(s),dl=l!='dataLayer'?'&l='+l:'';j.async=true;j.src=\n",
       "\t\t\t'//www.googletagmanager.com/gtm.js?id='+i+dl;f.parentNode.insertBefore(j,f);\n",
       "\t\t})(window,document,'script','dataLayer','GTM-KW6H96');\n",
       "</script>\n",
       "<div class=\"salsa-wrapper\">\n",
       "<div class=\"salsa-login\">\n",
       "<div class=\"col-login\">\n",
       "<img alt=\"Salsa - ignite action. fuel change.\" class=\"logo\" src=\"/images/Salsa-Logo_wTagline_RGB_270x131.png\"/>\n",
       "<form action=\"processSSO.jsp\" class=\"form\" id=\"ssoLoginForm\" method=\"post\" name=\"f\" onsubmit=\"sub();\">\n",
       "<input name=\"redirect\" type=\"hidden\" value=\"/dia/hq/email/summary.jsp?email_blast_KEYS=1352382\">\n",
       "<fieldset>\n",
       "<div id=\"message\">You must login to continue <!--null,null--></div>\n",
       "<div><input accesskey=\"e\" class=\"wide\" id=\"email\" name=\"email\" placeholder=\"username\" tabindex=\"1\" type=\"text\" value=\"\"/></div>\n",
       "<div><input accesskey=\"p\" autocomplete=\"off\" class=\"input-large\" id=\"password\" name=\"password\" placeholder=\"password\" tabindex=\"2\" type=\"password\"/></div>\n",
       "<div><input name=\"rememberUserName\" type=\"checkbox\" value=\"true\"/> <span>Remember my username</span></div>\n",
       "<div><input id=\"newHQCheckbox\" name=\"newHQ\" type=\"checkbox\" value=\"true\"/> <span><strong>I want the new interface!</strong></span></div>\n",
       "<div id=\"sub\"><input class=\"btn btn-orange btn-large\" type=\"submit\" value=\"Login\"/> <span><a href=\"/salsa/hq/sso/forgotPassword.jsp\">forgot password?</a></span></div>\n",
       "</fieldset>\n",
       "</input></form>\n",
       "<div id=\"subimage\" style=\"display:none;\">\n",
       "\t\t\t      Logging in... <br/> <img alt=\"Processing...\" src=\"/dia/hq/images/ajax_loader_bar.gif\"/>\n",
       "</div>\n",
       "<p class=\"hq-browser-message\">Attention: Salsa is currently optimized for use on Firefox, Safari, and Chrome.<br/> Internet Explorer users may experience difficulty using Salsa with this browser.</p>\n",
       "</div>\n",
       "<div class=\"col-notes\">\n",
       "<div class=\"tabbable\">\n",
       "<ul class=\"nav nav-tabs\" id=\"noteTabs\">\n",
       "<li class=\"active\"><a data-toggle=\"tab\" href=\"#tab-news\">News &amp; Announcements</a></li>\n",
       "<!--<li><a href=\"#tab-notes\" data-toggle=\"tab\">Release Notes <sup>updated</sup></a></li>-->\n",
       "</ul>\n",
       "<div class=\"tab-content\">\n",
       "<div class=\"tab-pane active\" id=\"tab-news\">\n",
       "<!--  temporary until we know where to source this from -->\n",
       "<iframe frameborder=\"0\" height=\"258px\" marginheight=\"0px\" marginwidth=\"0px\" name=\"News &amp; Announcements\" scrolling=\"yes\" src=\"https://action.salsalabs.com/p/salsa/web/common/public/content?content_item_KEY=12148\" style=\"border:0px #FFFFFF none;\" width=\"579px\"></iframe>\n",
       "</div>\n",
       "</div>\n",
       "</div><!-- /tabbable -->\n",
       "</div><!-- /col-notes -->\n",
       "</div><!-- /salsa-login -->\n",
       "<script>\n",
       "window.document.f.email.focus();\n",
       "\n",
       "document.getElementById('subimage').style.display = 'none';\n",
       "\n",
       "function sub(){\n",
       "\tdocument.getElementById('sub').style.display = 'none';\n",
       "\tdocument.getElementById('subimage').style.display = '';;\n",
       "}\n",
       "\n",
       "\n",
       "$(function() {\n",
       "\ts$(\"#noteTabs\").tab();\n",
       "\n",
       "})\n",
       "</script>\n",
       "</div><!-- /salsa-wrapper -->\n",
       "<div class=\"container-outer bg-home\"></div>\n",
       "</body>\n",
       "</html>"
      ]
     },
     "execution_count": 15,
     "metadata": {},
     "output_type": "execute_result"
    }
   ],
   "source": [
    "soup"
   ]
  },
  {
   "cell_type": "code",
   "execution_count": null,
   "metadata": {
    "collapsed": true
   },
   "outputs": [],
   "source": []
  }
 ],
 "metadata": {
  "anaconda-cloud": {},
  "kernelspec": {
   "display_name": "Python [Root]",
   "language": "python",
   "name": "Python [Root]"
  },
  "language_info": {
   "codemirror_mode": {
    "name": "ipython",
    "version": 3
   },
   "file_extension": ".py",
   "mimetype": "text/x-python",
   "name": "python",
   "nbconvert_exporter": "python",
   "pygments_lexer": "ipython3",
   "version": "3.5.2"
  }
 },
 "nbformat": 4,
 "nbformat_minor": 0
}
